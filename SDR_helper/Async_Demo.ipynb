{
 "cells": [
  {
   "cell_type": "markdown",
   "metadata": {},
   "source": [
    "# Asyncio Demo"
   ]
  },
  {
   "cell_type": "code",
   "execution_count": 1,
   "metadata": {},
   "outputs": [],
   "source": [
    "import asyncio\n",
    "from colorama import Fore"
   ]
  },
  {
   "cell_type": "markdown",
   "metadata": {},
   "source": [
    "## Async Function"
   ]
  },
  {
   "cell_type": "code",
   "execution_count": 2,
   "metadata": {},
   "outputs": [],
   "source": [
    "async def my_async_function(time):\n",
    "    print('hello')\n",
    "    await asyncio.sleep(time)\n",
    "    print('world')"
   ]
  },
  {
   "cell_type": "markdown",
   "metadata": {},
   "source": [
    "Wait for two seconds"
   ]
  },
  {
   "cell_type": "code",
   "execution_count": 7,
   "metadata": {},
   "outputs": [
    {
     "name": "stdout",
     "output_type": "stream",
     "text": [
      "hello\n",
      "world\n"
     ]
    }
   ],
   "source": [
    "await my_async_function(2)"
   ]
  },
  {
   "cell_type": "markdown",
   "metadata": {},
   "source": [
    "## Coroutines"
   ]
  },
  {
   "cell_type": "code",
   "execution_count": 4,
   "metadata": {},
   "outputs": [
    {
     "data": {
      "text/plain": [
       "<coroutine object my_async_function at 0x000001304E3902C8>"
      ]
     },
     "execution_count": 4,
     "metadata": {},
     "output_type": "execute_result"
    }
   ],
   "source": [
    "my_async_function(2)"
   ]
  },
  {
   "cell_type": "markdown",
   "metadata": {},
   "source": [
    "### Running a Coroutine"
   ]
  },
  {
   "cell_type": "markdown",
   "metadata": {},
   "source": [
    "Normally we would use `asyncio.run(<coroutine>)`"
   ]
  },
  {
   "cell_type": "code",
   "execution_count": 5,
   "metadata": {},
   "outputs": [
    {
     "ename": "RuntimeError",
     "evalue": "asyncio.run() cannot be called from a running event loop",
     "output_type": "error",
     "traceback": [
      "\u001b[1;31m---------------------------------------------------------------------------\u001b[0m",
      "\u001b[1;31mRuntimeError\u001b[0m                              Traceback (most recent call last)",
      "\u001b[1;32m<ipython-input-5-f5f040079201>\u001b[0m in \u001b[0;36m<module>\u001b[1;34m\u001b[0m\n\u001b[1;32m----> 1\u001b[1;33m \u001b[0masyncio\u001b[0m\u001b[1;33m.\u001b[0m\u001b[0mrun\u001b[0m\u001b[1;33m(\u001b[0m\u001b[0mmy_async_function\u001b[0m\u001b[1;33m(\u001b[0m\u001b[1;36m2\u001b[0m\u001b[1;33m)\u001b[0m\u001b[1;33m)\u001b[0m\u001b[1;33m\u001b[0m\u001b[1;33m\u001b[0m\u001b[0m\n\u001b[0m",
      "\u001b[1;32m~\\Miniconda3\\envs\\dsp-comm37\\lib\\asyncio\\runners.py\u001b[0m in \u001b[0;36mrun\u001b[1;34m(main, debug)\u001b[0m\n\u001b[0;32m     32\u001b[0m     \u001b[1;32mif\u001b[0m \u001b[0mevents\u001b[0m\u001b[1;33m.\u001b[0m\u001b[0m_get_running_loop\u001b[0m\u001b[1;33m(\u001b[0m\u001b[1;33m)\u001b[0m \u001b[1;32mis\u001b[0m \u001b[1;32mnot\u001b[0m \u001b[1;32mNone\u001b[0m\u001b[1;33m:\u001b[0m\u001b[1;33m\u001b[0m\u001b[1;33m\u001b[0m\u001b[0m\n\u001b[0;32m     33\u001b[0m         raise RuntimeError(\n\u001b[1;32m---> 34\u001b[1;33m             \"asyncio.run() cannot be called from a running event loop\")\n\u001b[0m\u001b[0;32m     35\u001b[0m \u001b[1;33m\u001b[0m\u001b[0m\n\u001b[0;32m     36\u001b[0m     \u001b[1;32mif\u001b[0m \u001b[1;32mnot\u001b[0m \u001b[0mcoroutines\u001b[0m\u001b[1;33m.\u001b[0m\u001b[0miscoroutine\u001b[0m\u001b[1;33m(\u001b[0m\u001b[0mmain\u001b[0m\u001b[1;33m)\u001b[0m\u001b[1;33m:\u001b[0m\u001b[1;33m\u001b[0m\u001b[1;33m\u001b[0m\u001b[0m\n",
      "\u001b[1;31mRuntimeError\u001b[0m: asyncio.run() cannot be called from a running event loop"
     ]
    }
   ],
   "source": [
    "asyncio.run(my_async_function(2))"
   ]
  },
  {
   "cell_type": "markdown",
   "metadata": {},
   "source": [
    "This doesn't work in Jupyter. Have to use the `await <coroutine>` syntax instead"
   ]
  },
  {
   "cell_type": "code",
   "execution_count": 8,
   "metadata": {},
   "outputs": [
    {
     "name": "stdout",
     "output_type": "stream",
     "text": [
      "hello\n",
      "world\n"
     ]
    }
   ],
   "source": [
    "await my_async_function(2)"
   ]
  },
  {
   "cell_type": "markdown",
   "metadata": {},
   "source": [
    "### Running multiple Coroutines"
   ]
  },
  {
   "cell_type": "markdown",
   "metadata": {},
   "source": [
    "We can use the `asyncio.gather()` function to run multiple coroutines concurrently."
   ]
  },
  {
   "cell_type": "code",
   "execution_count": 7,
   "metadata": {},
   "outputs": [],
   "source": [
    "async def my_async_function(time,color):\n",
    "    print(color + 'hello')\n",
    "    await asyncio.sleep(time)\n",
    "    print(color + 'world. Waited %.0f seconds' %time)"
   ]
  },
  {
   "cell_type": "code",
   "execution_count": 8,
   "metadata": {},
   "outputs": [
    {
     "name": "stdout",
     "output_type": "stream",
     "text": [
      "\u001b[34mhello\n",
      "\u001b[32mhello\n",
      "\u001b[31mhello\n",
      "\u001b[33mhello\n",
      "\u001b[34mworld. Waited 2 seconds\n",
      "\u001b[32mworld. Waited 3 seconds\n",
      "\u001b[31mworld. Waited 4 seconds\n",
      "\u001b[33mworld. Waited 5 seconds\n"
     ]
    }
   ],
   "source": [
    "await asyncio.gather(\n",
    "    my_async_function(2,Fore.BLUE),\n",
    "    my_async_function(3,Fore.GREEN),\n",
    "    my_async_function(4,Fore.RED),\n",
    "    my_async_function(5,Fore.YELLOW)\n",
    ");"
   ]
  },
  {
   "cell_type": "code",
   "execution_count": 9,
   "metadata": {},
   "outputs": [],
   "source": [
    "async def another_async_function(loops,color):\n",
    "    for i in range(0,loops):\n",
    "        print(color + 'Other process loop %d' %(i+1))\n",
    "        await asyncio.sleep(1)"
   ]
  },
  {
   "cell_type": "code",
   "execution_count": 10,
   "metadata": {},
   "outputs": [
    {
     "name": "stdout",
     "output_type": "stream",
     "text": [
      "\u001b[34mhello\n",
      "\u001b[34mhello\n",
      "\u001b[34mhello\n",
      "\u001b[34mhello\n",
      "\u001b[32mOther process loop 1\n",
      "\u001b[32mOther process loop 2\n",
      "\u001b[34mworld. Waited 2 seconds\n",
      "\u001b[32mOther process loop 3\n",
      "\u001b[34mworld. Waited 3 seconds\n",
      "\u001b[32mOther process loop 4\n",
      "\u001b[34mworld. Waited 4 seconds\n",
      "\u001b[32mOther process loop 5\n",
      "\u001b[34mworld. Waited 5 seconds\n"
     ]
    }
   ],
   "source": [
    "await asyncio.gather(\n",
    "    my_async_function(2,Fore.BLUE),\n",
    "    my_async_function(3,Fore.BLUE),\n",
    "    my_async_function(4,Fore.BLUE),\n",
    "    my_async_function(5,Fore.BLUE),\n",
    "    another_async_function(5,Fore.GREEN)\n",
    ");"
   ]
  },
  {
   "cell_type": "markdown",
   "metadata": {},
   "source": [
    "## Tasks"
   ]
  },
  {
   "cell_type": "markdown",
   "metadata": {},
   "source": [
    "Run an unblocked group of coroutines"
   ]
  },
  {
   "cell_type": "code",
   "execution_count": 11,
   "metadata": {},
   "outputs": [],
   "source": [
    "async def run_coroutines():\n",
    "    await asyncio.gather(\n",
    "        my_async_function(2,Fore.BLUE),\n",
    "        my_async_function(3,Fore.BLUE),\n",
    "        my_async_function(4,Fore.BLUE),\n",
    "        my_async_function(5,Fore.BLUE),\n",
    "        another_async_function(5,Fore.GREEN)\n",
    "    );"
   ]
  },
  {
   "cell_type": "code",
   "execution_count": 12,
   "metadata": {},
   "outputs": [
    {
     "name": "stdout",
     "output_type": "stream",
     "text": [
      "\u001b[34mhello\n",
      "\u001b[34mhello\n",
      "\u001b[34mhello\n",
      "\u001b[34mhello\n",
      "\u001b[32mOther process loop 1\n",
      "\u001b[32mOther process loop 2\n",
      "\u001b[31munblocked process\n",
      "\u001b[34mworld. Waited 2 seconds\n",
      "\u001b[32mOther process loop 3\n",
      "\u001b[34mworld. Waited 3 seconds\n",
      "\u001b[32mOther process loop 4\n",
      "\u001b[34mworld. Waited 4 seconds\n",
      "\u001b[31mstill running\n",
      "\u001b[32mOther process loop 5\n",
      "\u001b[34mworld. Waited 5 seconds\n"
     ]
    }
   ],
   "source": [
    "task = asyncio.create_task(run_coroutines())\n",
    "await asyncio.sleep(2)\n",
    "print(Fore.RED + 'unblocked process')\n",
    "await asyncio.sleep(2)\n",
    "print(Fore.RED + 'still running')"
   ]
  },
  {
   "cell_type": "markdown",
   "metadata": {},
   "source": [
    "Stop a running task"
   ]
  },
  {
   "cell_type": "code",
   "execution_count": 13,
   "metadata": {},
   "outputs": [],
   "source": [
    "global stop\n",
    "stop = False\n",
    "async def while_loop(color):\n",
    "    global stop\n",
    "    while (not stop):\n",
    "        print(color + 'Still Running')\n",
    "        await asyncio.sleep(1)\n",
    "    print(color + 'Completed')"
   ]
  },
  {
   "cell_type": "code",
   "execution_count": 14,
   "metadata": {},
   "outputs": [
    {
     "name": "stdout",
     "output_type": "stream",
     "text": [
      "\u001b[34mStill Running\n",
      "\u001b[34mStill Running\n",
      "\u001b[34mStill Running\n",
      "\u001b[34mStill Running\n",
      "\u001b[34mStill Running\n",
      "\u001b[34mStill Running\n",
      "\u001b[34mStill Running\n",
      "\u001b[34mStill Running\n",
      "\u001b[34mStill Running\n"
     ]
    }
   ],
   "source": [
    "task = asyncio.create_task(while_loop(Fore.BLUE))"
   ]
  },
  {
   "cell_type": "code",
   "execution_count": 15,
   "metadata": {},
   "outputs": [
    {
     "name": "stdout",
     "output_type": "stream",
     "text": [
      "\u001b[31mhi\n",
      "\u001b[34mStill Running\n",
      "\u001b[34mStill Running\n",
      "\u001b[34mStill Running\n",
      "\u001b[34mStill Running\n",
      "\u001b[34mStill Running\n",
      "\u001b[34mStill Running\n",
      "\u001b[34mStill Running\n",
      "\u001b[34mStill Running\n",
      "\u001b[34mStill Running\n"
     ]
    }
   ],
   "source": [
    "print(Fore.RED + 'hi')"
   ]
  },
  {
   "cell_type": "code",
   "execution_count": 16,
   "metadata": {},
   "outputs": [
    {
     "name": "stdout",
     "output_type": "stream",
     "text": [
      "\u001b[34mStill Running\n",
      "\u001b[34mCompleted\n"
     ]
    }
   ],
   "source": [
    "stop = True"
   ]
  },
  {
   "cell_type": "markdown",
   "metadata": {},
   "source": [
    "## Queues"
   ]
  },
  {
   "cell_type": "markdown",
   "metadata": {},
   "source": [
    "Let's define a global queues that will be shared between coroutines"
   ]
  },
  {
   "cell_type": "code",
   "execution_count": 17,
   "metadata": {},
   "outputs": [],
   "source": [
    "global my_queue1\n",
    "global my_queue2\n",
    "my_queue1 = asyncio.Queue()\n",
    "my_queue2 = asyncio.Queue()"
   ]
  },
  {
   "cell_type": "code",
   "execution_count": 18,
   "metadata": {},
   "outputs": [],
   "source": [
    "async def user1():\n",
    "    global my_queue1\n",
    "    global my_queue2\n",
    "    print(Fore.BLUE + 'Sending message to user 2')\n",
    "    await asyncio.sleep(3)\n",
    "    await my_queue1.put('Hello user 2!')\n",
    "    \n",
    "    print(Fore.BLUE + 'Message sent. Waiting for response')\n",
    "    user2_response = await my_queue2.get()\n",
    "    print(Fore.BLUE + 'Message from user 2: ' + user2_response)\n",
    "    \n",
    "async def user2():\n",
    "    global my_queue1\n",
    "    global my_queue2\n",
    "    print(Fore.RED + 'Waiting for message from user 1')\n",
    "    user1_message = await my_queue1.get()\n",
    "    \n",
    "    print(Fore.RED + 'Message from user 1: ' + user1_message)\n",
    "    print(Fore.RED + 'Sending response')\n",
    "    await asyncio.sleep(3)\n",
    "    await my_queue2.put('Hi, how are you user 1?')\n",
    "    "
   ]
  },
  {
   "cell_type": "code",
   "execution_count": 19,
   "metadata": {},
   "outputs": [
    {
     "name": "stdout",
     "output_type": "stream",
     "text": [
      "\u001b[34mSending message to user 2\n",
      "\u001b[31mWaiting for message from user 1\n",
      "\u001b[34mMessage sent. Waiting for response\n",
      "\u001b[31mMessage from user 1: Hello user 2!\n",
      "\u001b[31mSending response\n",
      "\u001b[34mMessage from user 2: Hi, how are you user 1?\n"
     ]
    }
   ],
   "source": [
    "asyncio.gather(\n",
    "    user1(),\n",
    "    user2()\n",
    ");"
   ]
  },
  {
   "cell_type": "code",
   "execution_count": null,
   "metadata": {},
   "outputs": [],
   "source": []
  }
 ],
 "metadata": {
  "kernelspec": {
   "display_name": "Python 3",
   "language": "python",
   "name": "python3"
  },
  "language_info": {
   "codemirror_mode": {
    "name": "ipython",
    "version": 3
   },
   "file_extension": ".py",
   "mimetype": "text/x-python",
   "name": "python",
   "nbconvert_exporter": "python",
   "pygments_lexer": "ipython3",
   "version": "3.7.3"
  },
  "widgets": {
   "application/vnd.jupyter.widget-state+json": {
    "state": {},
    "version_major": 2,
    "version_minor": 0
   }
  }
 },
 "nbformat": 4,
 "nbformat_minor": 4
}
